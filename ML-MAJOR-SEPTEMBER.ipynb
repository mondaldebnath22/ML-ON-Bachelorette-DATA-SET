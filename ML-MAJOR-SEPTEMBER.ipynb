{
 "cells": [
  {
   "cell_type": "code",
   "execution_count": 1,
   "metadata": {},
   "outputs": [],
   "source": [
    "from sklearn import*"
   ]
  },
  {
   "cell_type": "code",
   "execution_count": 2,
   "metadata": {},
   "outputs": [],
   "source": [
    "import pandas as pd"
   ]
  },
  {
   "cell_type": "code",
   "execution_count": 3,
   "metadata": {},
   "outputs": [],
   "source": [
    "df=pd.read_csv('C:\\\\Users\\\\My Pc\\\\New Folder\\\\BacheloretteDSFinal-Dogu.csv')"
   ]
  },
  {
   "cell_type": "code",
   "execution_count": 47,
   "metadata": {
    "scrolled": false
   },
   "outputs": [
    {
     "data": {
      "text/html": [
       "<div>\n",
       "<style scoped>\n",
       "    .dataframe tbody tr th:only-of-type {\n",
       "        vertical-align: middle;\n",
       "    }\n",
       "\n",
       "    .dataframe tbody tr th {\n",
       "        vertical-align: top;\n",
       "    }\n",
       "\n",
       "    .dataframe thead th {\n",
       "        text-align: right;\n",
       "    }\n",
       "</style>\n",
       "<table border=\"1\" class=\"dataframe\">\n",
       "  <thead>\n",
       "    <tr style=\"text-align: right;\">\n",
       "      <th></th>\n",
       "      <th>Season</th>\n",
       "      <th>Name</th>\n",
       "      <th>Age</th>\n",
       "      <th>Hometown</th>\n",
       "      <th>State</th>\n",
       "      <th>College</th>\n",
       "      <th>Occupation</th>\n",
       "      <th>Win_Loss</th>\n",
       "      <th>Height (cm)</th>\n",
       "      <th>Girlfriend While on the Show?</th>\n",
       "      <th>Hair Color</th>\n",
       "      <th>Eye Color</th>\n",
       "      <th>Blonde</th>\n",
       "      <th>Brown</th>\n",
       "      <th>Blue</th>\n",
       "      <th>Brown</th>\n",
       "      <th>Green</th>\n",
       "    </tr>\n",
       "  </thead>\n",
       "  <tbody>\n",
       "    <tr>\n",
       "      <th>62</th>\n",
       "      <td>13.0</td>\n",
       "      <td>Adam Gottschalk</td>\n",
       "      <td>27.0</td>\n",
       "      <td>Dallas, Texas</td>\n",
       "      <td>TX</td>\n",
       "      <td>University of Texas at Austin</td>\n",
       "      <td>Real Estate Agent</td>\n",
       "      <td>0.0</td>\n",
       "      <td>188.00</td>\n",
       "      <td>No</td>\n",
       "      <td>Brown</td>\n",
       "      <td>Brown</td>\n",
       "      <td>0</td>\n",
       "      <td>1</td>\n",
       "      <td>0</td>\n",
       "      <td>1</td>\n",
       "      <td>0</td>\n",
       "    </tr>\n",
       "    <tr>\n",
       "      <th>64</th>\n",
       "      <td>13.0</td>\n",
       "      <td>Aleksandr \"Alex\" Bordyukov</td>\n",
       "      <td>28.0</td>\n",
       "      <td>Grosse Pointe, Michigan</td>\n",
       "      <td>MI</td>\n",
       "      <td>Other</td>\n",
       "      <td>Information Systems Supervisor</td>\n",
       "      <td>0.0</td>\n",
       "      <td>187.96</td>\n",
       "      <td>No</td>\n",
       "      <td>Brown</td>\n",
       "      <td>Brown</td>\n",
       "      <td>0</td>\n",
       "      <td>1</td>\n",
       "      <td>0</td>\n",
       "      <td>1</td>\n",
       "      <td>0</td>\n",
       "    </tr>\n",
       "    <tr>\n",
       "      <th>94</th>\n",
       "      <td>12.0</td>\n",
       "      <td>Alexander \"Alex\" Woytkiw</td>\n",
       "      <td>25.0</td>\n",
       "      <td>Oceanside, California</td>\n",
       "      <td>CA</td>\n",
       "      <td>Palm Beach State College</td>\n",
       "      <td>U.S. Marine</td>\n",
       "      <td>0.0</td>\n",
       "      <td>170.18</td>\n",
       "      <td>No</td>\n",
       "      <td>Brown</td>\n",
       "      <td>Brown</td>\n",
       "      <td>0</td>\n",
       "      <td>1</td>\n",
       "      <td>0</td>\n",
       "      <td>1</td>\n",
       "      <td>0</td>\n",
       "    </tr>\n",
       "    <tr>\n",
       "      <th>103</th>\n",
       "      <td>12.0</td>\n",
       "      <td>Ali Zahiri</td>\n",
       "      <td>27.0</td>\n",
       "      <td>Santa Monica, California</td>\n",
       "      <td>CA</td>\n",
       "      <td>Other</td>\n",
       "      <td>Bartender</td>\n",
       "      <td>0.0</td>\n",
       "      <td>172.72</td>\n",
       "      <td>No</td>\n",
       "      <td>Brown</td>\n",
       "      <td>Brown</td>\n",
       "      <td>0</td>\n",
       "      <td>1</td>\n",
       "      <td>0</td>\n",
       "      <td>1</td>\n",
       "      <td>0</td>\n",
       "    </tr>\n",
       "    <tr>\n",
       "      <th>131</th>\n",
       "      <td>11.0</td>\n",
       "      <td>Anthony \"Tony\" Harris</td>\n",
       "      <td>35.0</td>\n",
       "      <td>St. Louis, Missouri</td>\n",
       "      <td>MO</td>\n",
       "      <td>Other</td>\n",
       "      <td>Healer</td>\n",
       "      <td>0.0</td>\n",
       "      <td>187.96</td>\n",
       "      <td>No</td>\n",
       "      <td>Brown</td>\n",
       "      <td>Green</td>\n",
       "      <td>0</td>\n",
       "      <td>1</td>\n",
       "      <td>0</td>\n",
       "      <td>0</td>\n",
       "      <td>1</td>\n",
       "    </tr>\n",
       "    <tr>\n",
       "      <th>...</th>\n",
       "      <td>...</td>\n",
       "      <td>...</td>\n",
       "      <td>...</td>\n",
       "      <td>...</td>\n",
       "      <td>...</td>\n",
       "      <td>...</td>\n",
       "      <td>...</td>\n",
       "      <td>...</td>\n",
       "      <td>...</td>\n",
       "      <td>...</td>\n",
       "      <td>...</td>\n",
       "      <td>...</td>\n",
       "      <td>...</td>\n",
       "      <td>...</td>\n",
       "      <td>...</td>\n",
       "      <td>...</td>\n",
       "      <td>...</td>\n",
       "    </tr>\n",
       "    <tr>\n",
       "      <th>1</th>\n",
       "      <td>15.0</td>\n",
       "      <td>Tyler Cameron</td>\n",
       "      <td>26.0</td>\n",
       "      <td>Jupiter, Florida</td>\n",
       "      <td>FL</td>\n",
       "      <td>Wake Forest</td>\n",
       "      <td>General Contractor</td>\n",
       "      <td>0.0</td>\n",
       "      <td>187.96</td>\n",
       "      <td>No</td>\n",
       "      <td>Brown</td>\n",
       "      <td>Green</td>\n",
       "      <td>0</td>\n",
       "      <td>1</td>\n",
       "      <td>0</td>\n",
       "      <td>0</td>\n",
       "      <td>1</td>\n",
       "    </tr>\n",
       "    <tr>\n",
       "      <th>99</th>\n",
       "      <td>12.0</td>\n",
       "      <td>Vincent \"Vinny\" Ventiera</td>\n",
       "      <td>28.0</td>\n",
       "      <td>Kings Park, New York</td>\n",
       "      <td>NY</td>\n",
       "      <td>Five Towns College</td>\n",
       "      <td>Barber</td>\n",
       "      <td>0.0</td>\n",
       "      <td>182.88</td>\n",
       "      <td>No</td>\n",
       "      <td>Brown</td>\n",
       "      <td>Brown</td>\n",
       "      <td>0</td>\n",
       "      <td>1</td>\n",
       "      <td>0</td>\n",
       "      <td>1</td>\n",
       "      <td>0</td>\n",
       "    </tr>\n",
       "    <tr>\n",
       "      <th>96</th>\n",
       "      <td>12.0</td>\n",
       "      <td>Wells Adams</td>\n",
       "      <td>31.0</td>\n",
       "      <td>Monterey, California</td>\n",
       "      <td>CA</td>\n",
       "      <td>University of Oxford</td>\n",
       "      <td>Radio DJ</td>\n",
       "      <td>0.0</td>\n",
       "      <td>182.88</td>\n",
       "      <td>No</td>\n",
       "      <td>Brown</td>\n",
       "      <td>Brown</td>\n",
       "      <td>0</td>\n",
       "      <td>1</td>\n",
       "      <td>0</td>\n",
       "      <td>1</td>\n",
       "      <td>0</td>\n",
       "    </tr>\n",
       "    <tr>\n",
       "      <th>65</th>\n",
       "      <td>13.0</td>\n",
       "      <td>William \"Will\" Gaskins</td>\n",
       "      <td>28.0</td>\n",
       "      <td>White Plains, New York</td>\n",
       "      <td>NY</td>\n",
       "      <td>William and Mary</td>\n",
       "      <td>Sales Manager</td>\n",
       "      <td>0.0</td>\n",
       "      <td>190.50</td>\n",
       "      <td>No</td>\n",
       "      <td>Brown</td>\n",
       "      <td>Brown</td>\n",
       "      <td>0</td>\n",
       "      <td>1</td>\n",
       "      <td>0</td>\n",
       "      <td>1</td>\n",
       "      <td>0</td>\n",
       "    </tr>\n",
       "    <tr>\n",
       "      <th>108</th>\n",
       "      <td>12.0</td>\n",
       "      <td>William \"Will\" Haduch</td>\n",
       "      <td>26.0</td>\n",
       "      <td>Jersey City, New Jersey</td>\n",
       "      <td>NJ</td>\n",
       "      <td>The College of New Jersey</td>\n",
       "      <td>Civil Engineer</td>\n",
       "      <td>0.0</td>\n",
       "      <td>190.50</td>\n",
       "      <td>No</td>\n",
       "      <td>Brown</td>\n",
       "      <td>Green</td>\n",
       "      <td>0</td>\n",
       "      <td>1</td>\n",
       "      <td>0</td>\n",
       "      <td>0</td>\n",
       "      <td>1</td>\n",
       "    </tr>\n",
       "  </tbody>\n",
       "</table>\n",
       "<p>100 rows × 17 columns</p>\n",
       "</div>"
      ],
      "text/plain": [
       "     Season                        Name   Age                  Hometown State  \\\n",
       "62     13.0             Adam Gottschalk  27.0             Dallas, Texas    TX   \n",
       "64     13.0  Aleksandr \"Alex\" Bordyukov  28.0   Grosse Pointe, Michigan    MI   \n",
       "94     12.0    Alexander \"Alex\" Woytkiw  25.0     Oceanside, California    CA   \n",
       "103    12.0                  Ali Zahiri  27.0  Santa Monica, California    CA   \n",
       "131    11.0       Anthony \"Tony\" Harris  35.0       St. Louis, Missouri    MO   \n",
       "..      ...                         ...   ...                       ...   ...   \n",
       "1      15.0               Tyler Cameron  26.0          Jupiter, Florida    FL   \n",
       "99     12.0    Vincent \"Vinny\" Ventiera  28.0      Kings Park, New York    NY   \n",
       "96     12.0                 Wells Adams  31.0      Monterey, California    CA   \n",
       "65     13.0      William \"Will\" Gaskins  28.0    White Plains, New York    NY   \n",
       "108    12.0       William \"Will\" Haduch  26.0   Jersey City, New Jersey    NJ   \n",
       "\n",
       "                           College                      Occupation  Win_Loss  \\\n",
       "62   University of Texas at Austin               Real Estate Agent       0.0   \n",
       "64                           Other  Information Systems Supervisor       0.0   \n",
       "94        Palm Beach State College                     U.S. Marine       0.0   \n",
       "103                          Other                       Bartender       0.0   \n",
       "131                          Other                          Healer       0.0   \n",
       "..                             ...                             ...       ...   \n",
       "1                      Wake Forest              General Contractor       0.0   \n",
       "99              Five Towns College                          Barber       0.0   \n",
       "96            University of Oxford                        Radio DJ       0.0   \n",
       "65                William and Mary                   Sales Manager       0.0   \n",
       "108      The College of New Jersey                  Civil Engineer       0.0   \n",
       "\n",
       "     Height (cm) Girlfriend While on the Show? Hair Color Eye Color  Blonde  \\\n",
       "62        188.00                            No      Brown     Brown       0   \n",
       "64        187.96                            No      Brown     Brown       0   \n",
       "94        170.18                            No      Brown     Brown       0   \n",
       "103       172.72                            No      Brown     Brown       0   \n",
       "131       187.96                            No      Brown     Green       0   \n",
       "..           ...                           ...        ...       ...     ...   \n",
       "1         187.96                            No      Brown     Green       0   \n",
       "99        182.88                            No      Brown     Brown       0   \n",
       "96        182.88                            No      Brown     Brown       0   \n",
       "65        190.50                            No      Brown     Brown       0   \n",
       "108       190.50                            No      Brown     Green       0   \n",
       "\n",
       "     Brown  Blue  Brown  Green  \n",
       "62       1     0      1      0  \n",
       "64       1     0      1      0  \n",
       "94       1     0      1      0  \n",
       "103      1     0      1      0  \n",
       "131      1     0      0      1  \n",
       "..     ...   ...    ...    ...  \n",
       "1        1     0      0      1  \n",
       "99       1     0      1      0  \n",
       "96       1     0      1      0  \n",
       "65       1     0      1      0  \n",
       "108      1     0      0      1  \n",
       "\n",
       "[100 rows x 17 columns]"
      ]
     },
     "execution_count": 47,
     "metadata": {},
     "output_type": "execute_result"
    }
   ],
   "source": [
    "df.tail(100)"
   ]
  },
  {
   "cell_type": "code",
   "execution_count": 57,
   "metadata": {},
   "outputs": [],
   "source": [
    "df.sort_index(axis=0, level=None, ascending=True, inplace=True, kind='quicksort', na_position='last', sort_remaining=True,)"
   ]
  },
  {
   "cell_type": "code",
   "execution_count": 59,
   "metadata": {},
   "outputs": [
    {
     "data": {
      "text/html": [
       "<div>\n",
       "<style scoped>\n",
       "    .dataframe tbody tr th:only-of-type {\n",
       "        vertical-align: middle;\n",
       "    }\n",
       "\n",
       "    .dataframe tbody tr th {\n",
       "        vertical-align: top;\n",
       "    }\n",
       "\n",
       "    .dataframe thead th {\n",
       "        text-align: right;\n",
       "    }\n",
       "</style>\n",
       "<table border=\"1\" class=\"dataframe\">\n",
       "  <thead>\n",
       "    <tr style=\"text-align: right;\">\n",
       "      <th></th>\n",
       "      <th>Season</th>\n",
       "      <th>Name</th>\n",
       "      <th>Age</th>\n",
       "      <th>Hometown</th>\n",
       "      <th>State</th>\n",
       "      <th>College</th>\n",
       "      <th>Occupation</th>\n",
       "      <th>Win_Loss</th>\n",
       "      <th>Height (cm)</th>\n",
       "      <th>Girlfriend While on the Show?</th>\n",
       "      <th>Hair Color</th>\n",
       "      <th>Eye Color</th>\n",
       "      <th>Blonde</th>\n",
       "      <th>Brown</th>\n",
       "      <th>Blue</th>\n",
       "      <th>Brown</th>\n",
       "      <th>Green</th>\n",
       "    </tr>\n",
       "  </thead>\n",
       "  <tbody>\n",
       "    <tr>\n",
       "      <th>134</th>\n",
       "      <td>11.0</td>\n",
       "      <td>Kupah James</td>\n",
       "      <td>32.0</td>\n",
       "      <td>Boston, Massachusetts</td>\n",
       "      <td>MA</td>\n",
       "      <td>Curry College</td>\n",
       "      <td>Entrepreneur</td>\n",
       "      <td>0.0</td>\n",
       "      <td>182.88</td>\n",
       "      <td>No</td>\n",
       "      <td>Brown</td>\n",
       "      <td>Brown</td>\n",
       "      <td>0</td>\n",
       "      <td>1</td>\n",
       "      <td>0</td>\n",
       "      <td>1</td>\n",
       "      <td>0</td>\n",
       "    </tr>\n",
       "    <tr>\n",
       "      <th>135</th>\n",
       "      <td>11.0</td>\n",
       "      <td>Bradley Cox</td>\n",
       "      <td>25.0</td>\n",
       "      <td>Duluth, Georgia</td>\n",
       "      <td>GA</td>\n",
       "      <td>Other</td>\n",
       "      <td>International Auto Shipper</td>\n",
       "      <td>0.0</td>\n",
       "      <td>187.96</td>\n",
       "      <td>No</td>\n",
       "      <td>Brown</td>\n",
       "      <td>Brown</td>\n",
       "      <td>0</td>\n",
       "      <td>1</td>\n",
       "      <td>0</td>\n",
       "      <td>1</td>\n",
       "      <td>0</td>\n",
       "    </tr>\n",
       "    <tr>\n",
       "      <th>137</th>\n",
       "      <td>11.0</td>\n",
       "      <td>Joshua \"Josh\" Seiter</td>\n",
       "      <td>27.0</td>\n",
       "      <td>Chicago, Illinois</td>\n",
       "      <td>IL</td>\n",
       "      <td>Chicago-Kent College</td>\n",
       "      <td>Law Student/Exotic Dancer</td>\n",
       "      <td>0.0</td>\n",
       "      <td>187.96</td>\n",
       "      <td>No</td>\n",
       "      <td>Brown</td>\n",
       "      <td>Brown</td>\n",
       "      <td>0</td>\n",
       "      <td>1</td>\n",
       "      <td>0</td>\n",
       "      <td>1</td>\n",
       "      <td>0</td>\n",
       "    </tr>\n",
       "    <tr>\n",
       "      <th>139</th>\n",
       "      <td>11.0</td>\n",
       "      <td>Brady Toops</td>\n",
       "      <td>33.0</td>\n",
       "      <td>Wauseon, Ohio</td>\n",
       "      <td>OH</td>\n",
       "      <td>Other</td>\n",
       "      <td>Singer/Songwriter</td>\n",
       "      <td>0.0</td>\n",
       "      <td>187.96</td>\n",
       "      <td>No</td>\n",
       "      <td>Brown</td>\n",
       "      <td>Brown</td>\n",
       "      <td>0</td>\n",
       "      <td>1</td>\n",
       "      <td>0</td>\n",
       "      <td>1</td>\n",
       "      <td>0</td>\n",
       "    </tr>\n",
       "    <tr>\n",
       "      <th>140</th>\n",
       "      <td>11.0</td>\n",
       "      <td>Ryan McDill</td>\n",
       "      <td>28.0</td>\n",
       "      <td>Kansas City, Missouri</td>\n",
       "      <td>MO</td>\n",
       "      <td>Other</td>\n",
       "      <td>Junkyard Specialist</td>\n",
       "      <td>0.0</td>\n",
       "      <td>190.50</td>\n",
       "      <td>No</td>\n",
       "      <td>Brown</td>\n",
       "      <td>Blue</td>\n",
       "      <td>0</td>\n",
       "      <td>1</td>\n",
       "      <td>1</td>\n",
       "      <td>0</td>\n",
       "      <td>0</td>\n",
       "    </tr>\n",
       "  </tbody>\n",
       "</table>\n",
       "</div>"
      ],
      "text/plain": [
       "     Season                  Name   Age               Hometown State  \\\n",
       "134    11.0           Kupah James  32.0  Boston, Massachusetts    MA   \n",
       "135    11.0           Bradley Cox  25.0        Duluth, Georgia    GA   \n",
       "137    11.0  Joshua \"Josh\" Seiter  27.0      Chicago, Illinois    IL   \n",
       "139    11.0           Brady Toops  33.0          Wauseon, Ohio    OH   \n",
       "140    11.0           Ryan McDill  28.0  Kansas City, Missouri    MO   \n",
       "\n",
       "                  College                  Occupation  Win_Loss  Height (cm)  \\\n",
       "134         Curry College                Entrepreneur       0.0       182.88   \n",
       "135                 Other  International Auto Shipper       0.0       187.96   \n",
       "137  Chicago-Kent College   Law Student/Exotic Dancer       0.0       187.96   \n",
       "139                 Other           Singer/Songwriter       0.0       187.96   \n",
       "140                 Other         Junkyard Specialist       0.0       190.50   \n",
       "\n",
       "    Girlfriend While on the Show? Hair Color Eye Color  Blonde  Brown  Blue  \\\n",
       "134                            No      Brown     Brown       0      1     0   \n",
       "135                            No      Brown     Brown       0      1     0   \n",
       "137                            No      Brown     Brown       0      1     0   \n",
       "139                            No      Brown     Brown       0      1     0   \n",
       "140                            No      Brown      Blue       0      1     1   \n",
       "\n",
       "     Brown  Green  \n",
       "134      1      0  \n",
       "135      1      0  \n",
       "137      1      0  \n",
       "139      1      0  \n",
       "140      0      0  "
      ]
     },
     "execution_count": 59,
     "metadata": {},
     "output_type": "execute_result"
    }
   ],
   "source": [
    "df.tail(5)"
   ]
  },
  {
   "cell_type": "code",
   "execution_count": 62,
   "metadata": {
    "scrolled": true
   },
   "outputs": [
    {
     "data": {
      "text/html": [
       "<div>\n",
       "<style scoped>\n",
       "    .dataframe tbody tr th:only-of-type {\n",
       "        vertical-align: middle;\n",
       "    }\n",
       "\n",
       "    .dataframe tbody tr th {\n",
       "        vertical-align: top;\n",
       "    }\n",
       "\n",
       "    .dataframe thead th {\n",
       "        text-align: right;\n",
       "    }\n",
       "</style>\n",
       "<table border=\"1\" class=\"dataframe\">\n",
       "  <thead>\n",
       "    <tr style=\"text-align: right;\">\n",
       "      <th></th>\n",
       "      <th>Season</th>\n",
       "      <th>Name</th>\n",
       "      <th>Age</th>\n",
       "      <th>Hometown</th>\n",
       "      <th>State</th>\n",
       "      <th>College</th>\n",
       "      <th>Occupation</th>\n",
       "      <th>Win_Loss</th>\n",
       "      <th>Height (cm)</th>\n",
       "      <th>Girlfriend While on the Show?</th>\n",
       "      <th>Hair Color</th>\n",
       "      <th>Eye Color</th>\n",
       "      <th>Blonde</th>\n",
       "      <th>Brown</th>\n",
       "      <th>Blue</th>\n",
       "      <th>Brown</th>\n",
       "      <th>Green</th>\n",
       "    </tr>\n",
       "  </thead>\n",
       "  <tbody>\n",
       "    <tr>\n",
       "      <th>100</th>\n",
       "      <td>15.0</td>\n",
       "      <td>Jed Wyatt</td>\n",
       "      <td>25.0</td>\n",
       "      <td>Sevierville, Tennessee</td>\n",
       "      <td>TN</td>\n",
       "      <td>Belmont University</td>\n",
       "      <td>Singer/Sonwriter</td>\n",
       "      <td>1.0</td>\n",
       "      <td>190.50</td>\n",
       "      <td>Yes</td>\n",
       "      <td>Brown</td>\n",
       "      <td>Brown</td>\n",
       "      <td>0</td>\n",
       "      <td>1</td>\n",
       "      <td>0</td>\n",
       "      <td>1</td>\n",
       "      <td>0</td>\n",
       "    </tr>\n",
       "    <tr>\n",
       "      <th>101</th>\n",
       "      <td>15.0</td>\n",
       "      <td>Tyler Cameron</td>\n",
       "      <td>26.0</td>\n",
       "      <td>Jupiter, Florida</td>\n",
       "      <td>FL</td>\n",
       "      <td>Wake Forest</td>\n",
       "      <td>General Contractor</td>\n",
       "      <td>0.0</td>\n",
       "      <td>187.96</td>\n",
       "      <td>No</td>\n",
       "      <td>Brown</td>\n",
       "      <td>Green</td>\n",
       "      <td>0</td>\n",
       "      <td>1</td>\n",
       "      <td>0</td>\n",
       "      <td>0</td>\n",
       "      <td>1</td>\n",
       "    </tr>\n",
       "    <tr>\n",
       "      <th>102</th>\n",
       "      <td>15.0</td>\n",
       "      <td>Peter Weber</td>\n",
       "      <td>27.0</td>\n",
       "      <td>Westlake Village, California</td>\n",
       "      <td>CA</td>\n",
       "      <td>Baylor University</td>\n",
       "      <td>Pilot</td>\n",
       "      <td>0.0</td>\n",
       "      <td>175.25</td>\n",
       "      <td>No</td>\n",
       "      <td>Brown</td>\n",
       "      <td>Brown</td>\n",
       "      <td>0</td>\n",
       "      <td>1</td>\n",
       "      <td>0</td>\n",
       "      <td>1</td>\n",
       "      <td>0</td>\n",
       "    </tr>\n",
       "    <tr>\n",
       "      <th>103</th>\n",
       "      <td>15.0</td>\n",
       "      <td>Luke Parker</td>\n",
       "      <td>24.0</td>\n",
       "      <td>Gainesville, Georgia</td>\n",
       "      <td>GA</td>\n",
       "      <td>Faulkner University</td>\n",
       "      <td>Import/Export Manager</td>\n",
       "      <td>0.0</td>\n",
       "      <td>175.00</td>\n",
       "      <td>No</td>\n",
       "      <td>Blonde</td>\n",
       "      <td>Brown</td>\n",
       "      <td>1</td>\n",
       "      <td>0</td>\n",
       "      <td>0</td>\n",
       "      <td>1</td>\n",
       "      <td>0</td>\n",
       "    </tr>\n",
       "    <tr>\n",
       "      <th>104</th>\n",
       "      <td>15.0</td>\n",
       "      <td>Connor Saeli</td>\n",
       "      <td>24.0</td>\n",
       "      <td>Birmingham, Michigan</td>\n",
       "      <td>MI</td>\n",
       "      <td>Souther Methodist University</td>\n",
       "      <td>Investment Analyst</td>\n",
       "      <td>0.0</td>\n",
       "      <td>198.00</td>\n",
       "      <td>No</td>\n",
       "      <td>Brown</td>\n",
       "      <td>Brown</td>\n",
       "      <td>0</td>\n",
       "      <td>1</td>\n",
       "      <td>0</td>\n",
       "      <td>1</td>\n",
       "      <td>0</td>\n",
       "    </tr>\n",
       "    <tr>\n",
       "      <th>...</th>\n",
       "      <td>...</td>\n",
       "      <td>...</td>\n",
       "      <td>...</td>\n",
       "      <td>...</td>\n",
       "      <td>...</td>\n",
       "      <td>...</td>\n",
       "      <td>...</td>\n",
       "      <td>...</td>\n",
       "      <td>...</td>\n",
       "      <td>...</td>\n",
       "      <td>...</td>\n",
       "      <td>...</td>\n",
       "      <td>...</td>\n",
       "      <td>...</td>\n",
       "      <td>...</td>\n",
       "      <td>...</td>\n",
       "      <td>...</td>\n",
       "    </tr>\n",
       "    <tr>\n",
       "      <th>195</th>\n",
       "      <td>11.0</td>\n",
       "      <td>Kupah James</td>\n",
       "      <td>32.0</td>\n",
       "      <td>Boston, Massachusetts</td>\n",
       "      <td>MA</td>\n",
       "      <td>Curry College</td>\n",
       "      <td>Entrepreneur</td>\n",
       "      <td>0.0</td>\n",
       "      <td>182.88</td>\n",
       "      <td>No</td>\n",
       "      <td>Brown</td>\n",
       "      <td>Brown</td>\n",
       "      <td>0</td>\n",
       "      <td>1</td>\n",
       "      <td>0</td>\n",
       "      <td>1</td>\n",
       "      <td>0</td>\n",
       "    </tr>\n",
       "    <tr>\n",
       "      <th>196</th>\n",
       "      <td>11.0</td>\n",
       "      <td>Bradley Cox</td>\n",
       "      <td>25.0</td>\n",
       "      <td>Duluth, Georgia</td>\n",
       "      <td>GA</td>\n",
       "      <td>Other</td>\n",
       "      <td>International Auto Shipper</td>\n",
       "      <td>0.0</td>\n",
       "      <td>187.96</td>\n",
       "      <td>No</td>\n",
       "      <td>Brown</td>\n",
       "      <td>Brown</td>\n",
       "      <td>0</td>\n",
       "      <td>1</td>\n",
       "      <td>0</td>\n",
       "      <td>1</td>\n",
       "      <td>0</td>\n",
       "    </tr>\n",
       "    <tr>\n",
       "      <th>197</th>\n",
       "      <td>11.0</td>\n",
       "      <td>Joshua \"Josh\" Seiter</td>\n",
       "      <td>27.0</td>\n",
       "      <td>Chicago, Illinois</td>\n",
       "      <td>IL</td>\n",
       "      <td>Chicago-Kent College</td>\n",
       "      <td>Law Student/Exotic Dancer</td>\n",
       "      <td>0.0</td>\n",
       "      <td>187.96</td>\n",
       "      <td>No</td>\n",
       "      <td>Brown</td>\n",
       "      <td>Brown</td>\n",
       "      <td>0</td>\n",
       "      <td>1</td>\n",
       "      <td>0</td>\n",
       "      <td>1</td>\n",
       "      <td>0</td>\n",
       "    </tr>\n",
       "    <tr>\n",
       "      <th>198</th>\n",
       "      <td>11.0</td>\n",
       "      <td>Brady Toops</td>\n",
       "      <td>33.0</td>\n",
       "      <td>Wauseon, Ohio</td>\n",
       "      <td>OH</td>\n",
       "      <td>Other</td>\n",
       "      <td>Singer/Songwriter</td>\n",
       "      <td>0.0</td>\n",
       "      <td>187.96</td>\n",
       "      <td>No</td>\n",
       "      <td>Brown</td>\n",
       "      <td>Brown</td>\n",
       "      <td>0</td>\n",
       "      <td>1</td>\n",
       "      <td>0</td>\n",
       "      <td>1</td>\n",
       "      <td>0</td>\n",
       "    </tr>\n",
       "    <tr>\n",
       "      <th>199</th>\n",
       "      <td>11.0</td>\n",
       "      <td>Ryan McDill</td>\n",
       "      <td>28.0</td>\n",
       "      <td>Kansas City, Missouri</td>\n",
       "      <td>MO</td>\n",
       "      <td>Other</td>\n",
       "      <td>Junkyard Specialist</td>\n",
       "      <td>0.0</td>\n",
       "      <td>190.50</td>\n",
       "      <td>No</td>\n",
       "      <td>Brown</td>\n",
       "      <td>Blue</td>\n",
       "      <td>0</td>\n",
       "      <td>1</td>\n",
       "      <td>1</td>\n",
       "      <td>0</td>\n",
       "      <td>0</td>\n",
       "    </tr>\n",
       "  </tbody>\n",
       "</table>\n",
       "<p>100 rows × 17 columns</p>\n",
       "</div>"
      ],
      "text/plain": [
       "     Season                  Name   Age                      Hometown State  \\\n",
       "100    15.0             Jed Wyatt  25.0        Sevierville, Tennessee    TN   \n",
       "101    15.0         Tyler Cameron  26.0              Jupiter, Florida    FL   \n",
       "102    15.0           Peter Weber  27.0  Westlake Village, California    CA   \n",
       "103    15.0           Luke Parker  24.0          Gainesville, Georgia    GA   \n",
       "104    15.0          Connor Saeli  24.0          Birmingham, Michigan    MI   \n",
       "..      ...                   ...   ...                           ...   ...   \n",
       "195    11.0           Kupah James  32.0         Boston, Massachusetts    MA   \n",
       "196    11.0           Bradley Cox  25.0               Duluth, Georgia    GA   \n",
       "197    11.0  Joshua \"Josh\" Seiter  27.0             Chicago, Illinois    IL   \n",
       "198    11.0           Brady Toops  33.0                 Wauseon, Ohio    OH   \n",
       "199    11.0           Ryan McDill  28.0         Kansas City, Missouri    MO   \n",
       "\n",
       "                          College                  Occupation  Win_Loss  \\\n",
       "100            Belmont University            Singer/Sonwriter       1.0   \n",
       "101                   Wake Forest          General Contractor       0.0   \n",
       "102             Baylor University                       Pilot       0.0   \n",
       "103           Faulkner University       Import/Export Manager       0.0   \n",
       "104  Souther Methodist University          Investment Analyst       0.0   \n",
       "..                            ...                         ...       ...   \n",
       "195                 Curry College                Entrepreneur       0.0   \n",
       "196                         Other  International Auto Shipper       0.0   \n",
       "197          Chicago-Kent College   Law Student/Exotic Dancer       0.0   \n",
       "198                         Other           Singer/Songwriter       0.0   \n",
       "199                         Other         Junkyard Specialist       0.0   \n",
       "\n",
       "     Height (cm) Girlfriend While on the Show? Hair Color Eye Color  Blonde  \\\n",
       "100       190.50                           Yes      Brown     Brown       0   \n",
       "101       187.96                            No      Brown     Green       0   \n",
       "102       175.25                            No      Brown     Brown       0   \n",
       "103       175.00                            No     Blonde     Brown       1   \n",
       "104       198.00                            No      Brown     Brown       0   \n",
       "..           ...                           ...        ...       ...     ...   \n",
       "195       182.88                            No      Brown     Brown       0   \n",
       "196       187.96                            No      Brown     Brown       0   \n",
       "197       187.96                            No      Brown     Brown       0   \n",
       "198       187.96                            No      Brown     Brown       0   \n",
       "199       190.50                            No      Brown      Blue       0   \n",
       "\n",
       "     Brown  Blue  Brown  Green  \n",
       "100      1     0      1      0  \n",
       "101      1     0      0      1  \n",
       "102      1     0      1      0  \n",
       "103      0     0      1      0  \n",
       "104      1     0      1      0  \n",
       "..     ...   ...    ...    ...  \n",
       "195      1     0      1      0  \n",
       "196      1     0      1      0  \n",
       "197      1     0      1      0  \n",
       "198      1     0      1      0  \n",
       "199      1     1      0      0  \n",
       "\n",
       "[100 rows x 17 columns]"
      ]
     },
     "execution_count": 62,
     "metadata": {},
     "output_type": "execute_result"
    }
   ],
   "source": [
    "a=range(100,200)\n",
    "df.index=a\n",
    "df"
   ]
  },
  {
   "cell_type": "code",
   "execution_count": 39,
   "metadata": {},
   "outputs": [],
   "source": [
    "import seaborn as sns\n",
    "import matplotlib.pyplot as plt"
   ]
  },
  {
   "cell_type": "code",
   "execution_count": 6,
   "metadata": {},
   "outputs": [
    {
     "data": {
      "text/plain": [
       "<AxesSubplot:xlabel='Hair Color', ylabel='count'>"
      ]
     },
     "execution_count": 6,
     "metadata": {},
     "output_type": "execute_result"
    },
    {
     "data": {
      "image/png": "[encoded data removed]",
      "text/plain": [
       "<Figure size 432x288 with 1 Axes>"
      ]
     },
     "metadata": {
      "needs_background": "light"
     },
     "output_type": "display_data"
    }
   ],
   "source": [
    "sns.countplot(x='Hair Color',hue='Win_Loss',data=df)"
   ]
  },
  {
   "cell_type": "code",
   "execution_count": 7,
   "metadata": {},
   "outputs": [
    {
     "data": {
      "text/plain": [
       "<AxesSubplot:xlabel='Eye Color', ylabel='count'>"
      ]
     },
     "execution_count": 7,
     "metadata": {},
     "output_type": "execute_result"
    },
    {
     "data": {
      "image/png": "[encoded data removed]",
      "text/plain": [
       "<Figure size 432x288 with 1 Axes>"
      ]
     },
     "metadata": {
      "needs_background": "light"
     },
     "output_type": "display_data"
    }
   ],
   "source": [
    "sns.countplot(x='Eye Color',hue='Win_Loss',data=df)"
   ]
  },
  {
   "cell_type": "code",
   "execution_count": 8,
   "metadata": {},
   "outputs": [
    {
     "data": {
      "text/plain": [
       "<AxesSubplot:xlabel='State', ylabel='count'>"
      ]
     },
     "execution_count": 8,
     "metadata": {},
     "output_type": "execute_result"
    },
    {
     "data": {
      "image/png": "[encoded data removed]",
      "text/plain": [
       "<Figure size 432x288 with 1 Axes>"
      ]
     },
     "metadata": {
      "needs_background": "light"
     },
     "output_type": "display_data"
    }
   ],
   "source": [
    "sns.countplot(x='State',hue='Win_Loss',data=df)"
   ]
  },
  {
   "cell_type": "code",
   "execution_count": 9,
   "metadata": {},
   "outputs": [
    {
     "data": {
      "text/plain": [
       "<AxesSubplot:xlabel='College', ylabel='count'>"
      ]
     },
     "execution_count": 9,
     "metadata": {},
     "output_type": "execute_result"
    },
    {
     "data": {
      "image/png": "[encoded data removed]",
      "text/plain": [
       "<Figure size 432x288 with 1 Axes>"
      ]
     },
     "metadata": {
      "needs_background": "light"
     },
     "output_type": "display_data"
    }
   ],
   "source": [
    "sns.countplot(x='College',hue='Win_Loss',data=df)"
   ]
  },
  {
   "cell_type": "code",
   "execution_count": 10,
   "metadata": {},
   "outputs": [
    {
     "data": {
      "text/plain": [
       "<AxesSubplot:xlabel='Hometown', ylabel='count'>"
      ]
     },
     "execution_count": 10,
     "metadata": {},
     "output_type": "execute_result"
    },
    {
     "data": {
      "image/png": "[encoded data removed]",
      "text/plain": [
       "<Figure size 432x288 with 1 Axes>"
      ]
     },
     "metadata": {
      "needs_background": "light"
     },
     "output_type": "display_data"
    }
   ],
   "source": [
    "sns.countplot(x='Hometown',hue='Win_Loss',data=df)"
   ]
  },
  {
   "cell_type": "code",
   "execution_count": 11,
   "metadata": {},
   "outputs": [
    {
     "data": {
      "text/plain": [
       "<AxesSubplot:xlabel='Height (cm)', ylabel='count'>"
      ]
     },
     "execution_count": 11,
     "metadata": {},
     "output_type": "execute_result"
    },
    {
     "data": {
      "image/png": "[encoded data removed]",
      "text/plain": [
       "<Figure size 432x288 with 1 Axes>"
      ]
     },
     "metadata": {
      "needs_background": "light"
     },
     "output_type": "display_data"
    }
   ],
   "source": [
    "sns.countplot(x='Height (cm)',hue='Win_Loss',data=df)"
   ]
  },
  {
   "cell_type": "code",
   "execution_count": 12,
   "metadata": {},
   "outputs": [
    {
     "data": {
      "text/plain": [
       "<AxesSubplot:xlabel='Season', ylabel='count'>"
      ]
     },
     "execution_count": 12,
     "metadata": {},
     "output_type": "execute_result"
    },
    {
     "data": {
      "image/png": "[encoded data removed]",
      "text/plain": [
       "<Figure size 432x288 with 1 Axes>"
      ]
     },
     "metadata": {
      "needs_background": "light"
     },
     "output_type": "display_data"
    }
   ],
   "source": [
    "sns.countplot(x='Season',hue='Win_Loss',data=df)\n"
   ]
  },
  {
   "cell_type": "code",
   "execution_count": 13,
   "metadata": {},
   "outputs": [
    {
     "data": {
      "text/plain": [
       "<AxesSubplot:xlabel='Girlfriend While on the Show?', ylabel='count'>"
      ]
     },
     "execution_count": 13,
     "metadata": {},
     "output_type": "execute_result"
    },
    {
     "data": {
      "image/png": "[encoded data removed]",
      "text/plain": [
       "<Figure size 432x288 with 1 Axes>"
      ]
     },
     "metadata": {
      "needs_background": "light"
     },
     "output_type": "display_data"
    }
   ],
   "source": [
    "sns.countplot(x='Girlfriend While on the Show?',hue='Win_Loss',data=df)"
   ]
  },
  {
   "cell_type": "code",
   "execution_count": 14,
   "metadata": {},
   "outputs": [
    {
     "data": {
      "text/plain": [
       "<AxesSubplot:xlabel='Age', ylabel='count'>"
      ]
     },
     "execution_count": 14,
     "metadata": {},
     "output_type": "execute_result"
    },
    {
     "data": {
      "image/png": "[encoded data removed]",
      "text/plain": [
       "<Figure size 432x288 with 1 Axes>"
      ]
     },
     "metadata": {
      "needs_background": "light"
     },
     "output_type": "display_data"
    }
   ],
   "source": [
    "sns.countplot(x='Age',hue='Win_Loss',data=df)"
   ]
  },
  {
   "cell_type": "code",
   "execution_count": 15,
   "metadata": {},
   "outputs": [
    {
     "data": {
      "text/plain": [
       "<AxesSubplot:xlabel='Occupation', ylabel='count'>"
      ]
     },
     "execution_count": 15,
     "metadata": {},
     "output_type": "execute_result"
    },
    {
     "data": {
      "image/png": "[encoded data removed]",
      "text/plain": [
       "<Figure size 432x288 with 1 Axes>"
      ]
     },
     "metadata": {
      "needs_background": "light"
     },
     "output_type": "display_data"
    }
   ],
   "source": [
    "sns.countplot(x='Occupation',hue='Win_Loss',data=df)"
   ]
  },
  {
   "cell_type": "code",
   "execution_count": 16,
   "metadata": {},
   "outputs": [
    {
     "data": {
      "text/plain": [
       "Season                           float64\n",
       "Name                              object\n",
       "Age                              float64\n",
       "Hometown                          object\n",
       "State                             object\n",
       "College                           object\n",
       "Occupation                        object\n",
       "Win_Loss                         float64\n",
       "Height (cm)                      float64\n",
       "Girlfriend While on the Show?     object\n",
       "Hair Color                        object\n",
       "Eye Color                         object\n",
       "dtype: object"
      ]
     },
     "execution_count": 16,
     "metadata": {},
     "output_type": "execute_result"
    }
   ],
   "source": [
    "df.dtypes"
   ]
  },
  {
   "cell_type": "code",
   "execution_count": 17,
   "metadata": {},
   "outputs": [],
   "source": [
    "df.dropna(inplace=True)"
   ]
  },
  {
   "cell_type": "code",
   "execution_count": 18,
   "metadata": {},
   "outputs": [
    {
     "data": {
      "text/html": [
       "<div>\n",
       "<style scoped>\n",
       "    .dataframe tbody tr th:only-of-type {\n",
       "        vertical-align: middle;\n",
       "    }\n",
       "\n",
       "    .dataframe tbody tr th {\n",
       "        vertical-align: top;\n",
       "    }\n",
       "\n",
       "    .dataframe thead th {\n",
       "        text-align: right;\n",
       "    }\n",
       "</style>\n",
       "<table border=\"1\" class=\"dataframe\">\n",
       "  <thead>\n",
       "    <tr style=\"text-align: right;\">\n",
       "      <th></th>\n",
       "      <th>Blonde</th>\n",
       "      <th>Brown</th>\n",
       "    </tr>\n",
       "  </thead>\n",
       "  <tbody>\n",
       "    <tr>\n",
       "      <th>0</th>\n",
       "      <td>0</td>\n",
       "      <td>1</td>\n",
       "    </tr>\n",
       "    <tr>\n",
       "      <th>1</th>\n",
       "      <td>0</td>\n",
       "      <td>1</td>\n",
       "    </tr>\n",
       "    <tr>\n",
       "      <th>2</th>\n",
       "      <td>0</td>\n",
       "      <td>1</td>\n",
       "    </tr>\n",
       "    <tr>\n",
       "      <th>3</th>\n",
       "      <td>1</td>\n",
       "      <td>0</td>\n",
       "    </tr>\n",
       "    <tr>\n",
       "      <th>6</th>\n",
       "      <td>0</td>\n",
       "      <td>1</td>\n",
       "    </tr>\n",
       "    <tr>\n",
       "      <th>...</th>\n",
       "      <td>...</td>\n",
       "      <td>...</td>\n",
       "    </tr>\n",
       "    <tr>\n",
       "      <th>134</th>\n",
       "      <td>0</td>\n",
       "      <td>1</td>\n",
       "    </tr>\n",
       "    <tr>\n",
       "      <th>135</th>\n",
       "      <td>0</td>\n",
       "      <td>1</td>\n",
       "    </tr>\n",
       "    <tr>\n",
       "      <th>137</th>\n",
       "      <td>0</td>\n",
       "      <td>1</td>\n",
       "    </tr>\n",
       "    <tr>\n",
       "      <th>139</th>\n",
       "      <td>0</td>\n",
       "      <td>1</td>\n",
       "    </tr>\n",
       "    <tr>\n",
       "      <th>140</th>\n",
       "      <td>0</td>\n",
       "      <td>1</td>\n",
       "    </tr>\n",
       "  </tbody>\n",
       "</table>\n",
       "<p>100 rows × 2 columns</p>\n",
       "</div>"
      ],
      "text/plain": [
       "     Blonde  Brown\n",
       "0         0      1\n",
       "1         0      1\n",
       "2         0      1\n",
       "3         1      0\n",
       "6         0      1\n",
       "..      ...    ...\n",
       "134       0      1\n",
       "135       0      1\n",
       "137       0      1\n",
       "139       0      1\n",
       "140       0      1\n",
       "\n",
       "[100 rows x 2 columns]"
      ]
     },
     "execution_count": 18,
     "metadata": {},
     "output_type": "execute_result"
    }
   ],
   "source": [
    "g=pd.get_dummies(df['Hair Color'])\n",
    "g\n"
   ]
  },
  {
   "cell_type": "code",
   "execution_count": 19,
   "metadata": {},
   "outputs": [
    {
     "data": {
      "text/html": [
       "<div>\n",
       "<style scoped>\n",
       "    .dataframe tbody tr th:only-of-type {\n",
       "        vertical-align: middle;\n",
       "    }\n",
       "\n",
       "    .dataframe tbody tr th {\n",
       "        vertical-align: top;\n",
       "    }\n",
       "\n",
       "    .dataframe thead th {\n",
       "        text-align: right;\n",
       "    }\n",
       "</style>\n",
       "<table border=\"1\" class=\"dataframe\">\n",
       "  <thead>\n",
       "    <tr style=\"text-align: right;\">\n",
       "      <th></th>\n",
       "      <th>Blue</th>\n",
       "      <th>Brown</th>\n",
       "      <th>Green</th>\n",
       "    </tr>\n",
       "  </thead>\n",
       "  <tbody>\n",
       "    <tr>\n",
       "      <th>0</th>\n",
       "      <td>0</td>\n",
       "      <td>1</td>\n",
       "      <td>0</td>\n",
       "    </tr>\n",
       "    <tr>\n",
       "      <th>1</th>\n",
       "      <td>0</td>\n",
       "      <td>0</td>\n",
       "      <td>1</td>\n",
       "    </tr>\n",
       "    <tr>\n",
       "      <th>2</th>\n",
       "      <td>0</td>\n",
       "      <td>1</td>\n",
       "      <td>0</td>\n",
       "    </tr>\n",
       "    <tr>\n",
       "      <th>3</th>\n",
       "      <td>0</td>\n",
       "      <td>1</td>\n",
       "      <td>0</td>\n",
       "    </tr>\n",
       "    <tr>\n",
       "      <th>6</th>\n",
       "      <td>0</td>\n",
       "      <td>1</td>\n",
       "      <td>0</td>\n",
       "    </tr>\n",
       "    <tr>\n",
       "      <th>...</th>\n",
       "      <td>...</td>\n",
       "      <td>...</td>\n",
       "      <td>...</td>\n",
       "    </tr>\n",
       "    <tr>\n",
       "      <th>134</th>\n",
       "      <td>0</td>\n",
       "      <td>1</td>\n",
       "      <td>0</td>\n",
       "    </tr>\n",
       "    <tr>\n",
       "      <th>135</th>\n",
       "      <td>0</td>\n",
       "      <td>1</td>\n",
       "      <td>0</td>\n",
       "    </tr>\n",
       "    <tr>\n",
       "      <th>137</th>\n",
       "      <td>0</td>\n",
       "      <td>1</td>\n",
       "      <td>0</td>\n",
       "    </tr>\n",
       "    <tr>\n",
       "      <th>139</th>\n",
       "      <td>0</td>\n",
       "      <td>1</td>\n",
       "      <td>0</td>\n",
       "    </tr>\n",
       "    <tr>\n",
       "      <th>140</th>\n",
       "      <td>1</td>\n",
       "      <td>0</td>\n",
       "      <td>0</td>\n",
       "    </tr>\n",
       "  </tbody>\n",
       "</table>\n",
       "<p>100 rows × 3 columns</p>\n",
       "</div>"
      ],
      "text/plain": [
       "     Blue  Brown  Green\n",
       "0       0      1      0\n",
       "1       0      0      1\n",
       "2       0      1      0\n",
       "3       0      1      0\n",
       "6       0      1      0\n",
       "..    ...    ...    ...\n",
       "134     0      1      0\n",
       "135     0      1      0\n",
       "137     0      1      0\n",
       "139     0      1      0\n",
       "140     1      0      0\n",
       "\n",
       "[100 rows x 3 columns]"
      ]
     },
     "execution_count": 19,
     "metadata": {},
     "output_type": "execute_result"
    }
   ],
   "source": [
    "d=pd.get_dummies(df['Eye Color'])\n",
    "d"
   ]
  },
  {
   "cell_type": "code",
   "execution_count": 20,
   "metadata": {},
   "outputs": [],
   "source": [
    "df=pd.concat([df,g,d],axis='columns')"
   ]
  },
  {
   "cell_type": "code",
   "execution_count": 21,
   "metadata": {
    "scrolled": true
   },
   "outputs": [
    {
     "data": {
      "text/html": [
       "<div>\n",
       "<style scoped>\n",
       "    .dataframe tbody tr th:only-of-type {\n",
       "        vertical-align: middle;\n",
       "    }\n",
       "\n",
       "    .dataframe tbody tr th {\n",
       "        vertical-align: top;\n",
       "    }\n",
       "\n",
       "    .dataframe thead th {\n",
       "        text-align: right;\n",
       "    }\n",
       "</style>\n",
       "<table border=\"1\" class=\"dataframe\">\n",
       "  <thead>\n",
       "    <tr style=\"text-align: right;\">\n",
       "      <th></th>\n",
       "      <th>Season</th>\n",
       "      <th>Name</th>\n",
       "      <th>Age</th>\n",
       "      <th>Hometown</th>\n",
       "      <th>State</th>\n",
       "      <th>College</th>\n",
       "      <th>Occupation</th>\n",
       "      <th>Win_Loss</th>\n",
       "      <th>Height (cm)</th>\n",
       "      <th>Girlfriend While on the Show?</th>\n",
       "      <th>Hair Color</th>\n",
       "      <th>Eye Color</th>\n",
       "      <th>Blonde</th>\n",
       "      <th>Brown</th>\n",
       "      <th>Blue</th>\n",
       "      <th>Brown</th>\n",
       "      <th>Green</th>\n",
       "    </tr>\n",
       "  </thead>\n",
       "  <tbody>\n",
       "    <tr>\n",
       "      <th>0</th>\n",
       "      <td>15.0</td>\n",
       "      <td>Jed Wyatt</td>\n",
       "      <td>25.0</td>\n",
       "      <td>Sevierville, Tennessee</td>\n",
       "      <td>TN</td>\n",
       "      <td>Belmont University</td>\n",
       "      <td>Singer/Sonwriter</td>\n",
       "      <td>1.0</td>\n",
       "      <td>190.50</td>\n",
       "      <td>Yes</td>\n",
       "      <td>Brown</td>\n",
       "      <td>Brown</td>\n",
       "      <td>0</td>\n",
       "      <td>1</td>\n",
       "      <td>0</td>\n",
       "      <td>1</td>\n",
       "      <td>0</td>\n",
       "    </tr>\n",
       "    <tr>\n",
       "      <th>1</th>\n",
       "      <td>15.0</td>\n",
       "      <td>Tyler Cameron</td>\n",
       "      <td>26.0</td>\n",
       "      <td>Jupiter, Florida</td>\n",
       "      <td>FL</td>\n",
       "      <td>Wake Forest</td>\n",
       "      <td>General Contractor</td>\n",
       "      <td>0.0</td>\n",
       "      <td>187.96</td>\n",
       "      <td>No</td>\n",
       "      <td>Brown</td>\n",
       "      <td>Green</td>\n",
       "      <td>0</td>\n",
       "      <td>1</td>\n",
       "      <td>0</td>\n",
       "      <td>0</td>\n",
       "      <td>1</td>\n",
       "    </tr>\n",
       "    <tr>\n",
       "      <th>2</th>\n",
       "      <td>15.0</td>\n",
       "      <td>Peter Weber</td>\n",
       "      <td>27.0</td>\n",
       "      <td>Westlake Village, California</td>\n",
       "      <td>CA</td>\n",
       "      <td>Baylor University</td>\n",
       "      <td>Pilot</td>\n",
       "      <td>0.0</td>\n",
       "      <td>175.25</td>\n",
       "      <td>No</td>\n",
       "      <td>Brown</td>\n",
       "      <td>Brown</td>\n",
       "      <td>0</td>\n",
       "      <td>1</td>\n",
       "      <td>0</td>\n",
       "      <td>1</td>\n",
       "      <td>0</td>\n",
       "    </tr>\n",
       "    <tr>\n",
       "      <th>3</th>\n",
       "      <td>15.0</td>\n",
       "      <td>Luke Parker</td>\n",
       "      <td>24.0</td>\n",
       "      <td>Gainesville, Georgia</td>\n",
       "      <td>GA</td>\n",
       "      <td>Faulkner University</td>\n",
       "      <td>Import/Export Manager</td>\n",
       "      <td>0.0</td>\n",
       "      <td>175.00</td>\n",
       "      <td>No</td>\n",
       "      <td>Blonde</td>\n",
       "      <td>Brown</td>\n",
       "      <td>1</td>\n",
       "      <td>0</td>\n",
       "      <td>0</td>\n",
       "      <td>1</td>\n",
       "      <td>0</td>\n",
       "    </tr>\n",
       "    <tr>\n",
       "      <th>6</th>\n",
       "      <td>15.0</td>\n",
       "      <td>Connor Saeli</td>\n",
       "      <td>24.0</td>\n",
       "      <td>Birmingham, Michigan</td>\n",
       "      <td>MI</td>\n",
       "      <td>Souther Methodist University</td>\n",
       "      <td>Investment Analyst</td>\n",
       "      <td>0.0</td>\n",
       "      <td>198.00</td>\n",
       "      <td>No</td>\n",
       "      <td>Brown</td>\n",
       "      <td>Brown</td>\n",
       "      <td>0</td>\n",
       "      <td>1</td>\n",
       "      <td>0</td>\n",
       "      <td>1</td>\n",
       "      <td>0</td>\n",
       "    </tr>\n",
       "  </tbody>\n",
       "</table>\n",
       "</div>"
      ],
      "text/plain": [
       "   Season           Name   Age                      Hometown State  \\\n",
       "0    15.0      Jed Wyatt  25.0        Sevierville, Tennessee    TN   \n",
       "1    15.0  Tyler Cameron  26.0              Jupiter, Florida    FL   \n",
       "2    15.0    Peter Weber  27.0  Westlake Village, California    CA   \n",
       "3    15.0    Luke Parker  24.0          Gainesville, Georgia    GA   \n",
       "6    15.0   Connor Saeli  24.0          Birmingham, Michigan    MI   \n",
       "\n",
       "                        College             Occupation  Win_Loss  Height (cm)  \\\n",
       "0            Belmont University       Singer/Sonwriter       1.0       190.50   \n",
       "1                   Wake Forest     General Contractor       0.0       187.96   \n",
       "2             Baylor University                  Pilot       0.0       175.25   \n",
       "3           Faulkner University  Import/Export Manager       0.0       175.00   \n",
       "6  Souther Methodist University     Investment Analyst       0.0       198.00   \n",
       "\n",
       "  Girlfriend While on the Show? Hair Color Eye Color  Blonde  Brown  Blue  \\\n",
       "0                           Yes      Brown     Brown       0      1     0   \n",
       "1                            No      Brown     Green       0      1     0   \n",
       "2                            No      Brown     Brown       0      1     0   \n",
       "3                            No     Blonde     Brown       1      0     0   \n",
       "6                            No      Brown     Brown       0      1     0   \n",
       "\n",
       "   Brown  Green  \n",
       "0      1      0  \n",
       "1      0      1  \n",
       "2      1      0  \n",
       "3      1      0  \n",
       "6      1      0  "
      ]
     },
     "execution_count": 21,
     "metadata": {},
     "output_type": "execute_result"
    }
   ],
   "source": [
    "df.head()"
   ]
  },
  {
   "cell_type": "code",
   "execution_count": 22,
   "metadata": {},
   "outputs": [],
   "source": [
    "df.dropna(inplace=True)"
   ]
  },
  {
   "cell_type": "code",
   "execution_count": 23,
   "metadata": {},
   "outputs": [],
   "source": [
    "X=df.iloc[:,[0,2,8,13,15,16]]\n",
    "Y=df.iloc[:,7]"
   ]
  },
  {
   "cell_type": "code",
   "execution_count": 24,
   "metadata": {},
   "outputs": [
    {
     "data": {
      "text/html": [
       "<div>\n",
       "<style scoped>\n",
       "    .dataframe tbody tr th:only-of-type {\n",
       "        vertical-align: middle;\n",
       "    }\n",
       "\n",
       "    .dataframe tbody tr th {\n",
       "        vertical-align: top;\n",
       "    }\n",
       "\n",
       "    .dataframe thead th {\n",
       "        text-align: right;\n",
       "    }\n",
       "</style>\n",
       "<table border=\"1\" class=\"dataframe\">\n",
       "  <thead>\n",
       "    <tr style=\"text-align: right;\">\n",
       "      <th></th>\n",
       "      <th>Season</th>\n",
       "      <th>Name</th>\n",
       "      <th>Age</th>\n",
       "      <th>Hometown</th>\n",
       "      <th>State</th>\n",
       "      <th>College</th>\n",
       "      <th>Occupation</th>\n",
       "      <th>Win_Loss</th>\n",
       "      <th>Height (cm)</th>\n",
       "      <th>Girlfriend While on the Show?</th>\n",
       "      <th>Hair Color</th>\n",
       "      <th>Eye Color</th>\n",
       "      <th>Blonde</th>\n",
       "      <th>Brown</th>\n",
       "      <th>Blue</th>\n",
       "      <th>Brown</th>\n",
       "      <th>Green</th>\n",
       "    </tr>\n",
       "  </thead>\n",
       "  <tbody>\n",
       "    <tr>\n",
       "      <th>0</th>\n",
       "      <td>15.0</td>\n",
       "      <td>Jed Wyatt</td>\n",
       "      <td>25.0</td>\n",
       "      <td>Sevierville, Tennessee</td>\n",
       "      <td>TN</td>\n",
       "      <td>Belmont University</td>\n",
       "      <td>Singer/Sonwriter</td>\n",
       "      <td>1.0</td>\n",
       "      <td>190.50</td>\n",
       "      <td>Yes</td>\n",
       "      <td>Brown</td>\n",
       "      <td>Brown</td>\n",
       "      <td>0</td>\n",
       "      <td>1</td>\n",
       "      <td>0</td>\n",
       "      <td>1</td>\n",
       "      <td>0</td>\n",
       "    </tr>\n",
       "    <tr>\n",
       "      <th>1</th>\n",
       "      <td>15.0</td>\n",
       "      <td>Tyler Cameron</td>\n",
       "      <td>26.0</td>\n",
       "      <td>Jupiter, Florida</td>\n",
       "      <td>FL</td>\n",
       "      <td>Wake Forest</td>\n",
       "      <td>General Contractor</td>\n",
       "      <td>0.0</td>\n",
       "      <td>187.96</td>\n",
       "      <td>No</td>\n",
       "      <td>Brown</td>\n",
       "      <td>Green</td>\n",
       "      <td>0</td>\n",
       "      <td>1</td>\n",
       "      <td>0</td>\n",
       "      <td>0</td>\n",
       "      <td>1</td>\n",
       "    </tr>\n",
       "    <tr>\n",
       "      <th>2</th>\n",
       "      <td>15.0</td>\n",
       "      <td>Peter Weber</td>\n",
       "      <td>27.0</td>\n",
       "      <td>Westlake Village, California</td>\n",
       "      <td>CA</td>\n",
       "      <td>Baylor University</td>\n",
       "      <td>Pilot</td>\n",
       "      <td>0.0</td>\n",
       "      <td>175.25</td>\n",
       "      <td>No</td>\n",
       "      <td>Brown</td>\n",
       "      <td>Brown</td>\n",
       "      <td>0</td>\n",
       "      <td>1</td>\n",
       "      <td>0</td>\n",
       "      <td>1</td>\n",
       "      <td>0</td>\n",
       "    </tr>\n",
       "    <tr>\n",
       "      <th>3</th>\n",
       "      <td>15.0</td>\n",
       "      <td>Luke Parker</td>\n",
       "      <td>24.0</td>\n",
       "      <td>Gainesville, Georgia</td>\n",
       "      <td>GA</td>\n",
       "      <td>Faulkner University</td>\n",
       "      <td>Import/Export Manager</td>\n",
       "      <td>0.0</td>\n",
       "      <td>175.00</td>\n",
       "      <td>No</td>\n",
       "      <td>Blonde</td>\n",
       "      <td>Brown</td>\n",
       "      <td>1</td>\n",
       "      <td>0</td>\n",
       "      <td>0</td>\n",
       "      <td>1</td>\n",
       "      <td>0</td>\n",
       "    </tr>\n",
       "    <tr>\n",
       "      <th>6</th>\n",
       "      <td>15.0</td>\n",
       "      <td>Connor Saeli</td>\n",
       "      <td>24.0</td>\n",
       "      <td>Birmingham, Michigan</td>\n",
       "      <td>MI</td>\n",
       "      <td>Souther Methodist University</td>\n",
       "      <td>Investment Analyst</td>\n",
       "      <td>0.0</td>\n",
       "      <td>198.00</td>\n",
       "      <td>No</td>\n",
       "      <td>Brown</td>\n",
       "      <td>Brown</td>\n",
       "      <td>0</td>\n",
       "      <td>1</td>\n",
       "      <td>0</td>\n",
       "      <td>1</td>\n",
       "      <td>0</td>\n",
       "    </tr>\n",
       "  </tbody>\n",
       "</table>\n",
       "</div>"
      ],
      "text/plain": [
       "   Season           Name   Age                      Hometown State  \\\n",
       "0    15.0      Jed Wyatt  25.0        Sevierville, Tennessee    TN   \n",
       "1    15.0  Tyler Cameron  26.0              Jupiter, Florida    FL   \n",
       "2    15.0    Peter Weber  27.0  Westlake Village, California    CA   \n",
       "3    15.0    Luke Parker  24.0          Gainesville, Georgia    GA   \n",
       "6    15.0   Connor Saeli  24.0          Birmingham, Michigan    MI   \n",
       "\n",
       "                        College             Occupation  Win_Loss  Height (cm)  \\\n",
       "0            Belmont University       Singer/Sonwriter       1.0       190.50   \n",
       "1                   Wake Forest     General Contractor       0.0       187.96   \n",
       "2             Baylor University                  Pilot       0.0       175.25   \n",
       "3           Faulkner University  Import/Export Manager       0.0       175.00   \n",
       "6  Souther Methodist University     Investment Analyst       0.0       198.00   \n",
       "\n",
       "  Girlfriend While on the Show? Hair Color Eye Color  Blonde  Brown  Blue  \\\n",
       "0                           Yes      Brown     Brown       0      1     0   \n",
       "1                            No      Brown     Green       0      1     0   \n",
       "2                            No      Brown     Brown       0      1     0   \n",
       "3                            No     Blonde     Brown       1      0     0   \n",
       "6                            No      Brown     Brown       0      1     0   \n",
       "\n",
       "   Brown  Green  \n",
       "0      1      0  \n",
       "1      0      1  \n",
       "2      1      0  \n",
       "3      1      0  \n",
       "6      1      0  "
      ]
     },
     "execution_count": 24,
     "metadata": {},
     "output_type": "execute_result"
    }
   ],
   "source": [
    "df.head()"
   ]
  },
  {
   "cell_type": "code",
   "execution_count": 25,
   "metadata": {},
   "outputs": [],
   "source": [
    "from sklearn.model_selection import train_test_split\n",
    "X_train, X_test, y_train, y_test = train_test_split(X, Y, test_size=0.4, random_state=42)"
   ]
  },
  {
   "cell_type": "code",
   "execution_count": 26,
   "metadata": {},
   "outputs": [],
   "source": [
    "from sklearn.preprocessing import StandardScaler\n",
    "sc=StandardScaler()\n",
    "X_train=sc.fit_transform(X_train)\n",
    "X_test=sc.fit_transform(X_test)"
   ]
  },
  {
   "cell_type": "code",
   "execution_count": 27,
   "metadata": {},
   "outputs": [],
   "source": [
    "from sklearn.svm import SVC\n",
    "classifier=SVC(kernel='linear',random_state=0)\n",
    "classifier.fit(X_train,y_train)\n",
    "y_prd=classifier.predict(X_test)"
   ]
  },
  {
   "cell_type": "code",
   "execution_count": 28,
   "metadata": {},
   "outputs": [
    {
     "data": {
      "text/plain": [
       "array([0., 0., 0., 0., 0., 0., 0., 0., 0., 0., 0., 0., 0., 0., 0., 0., 0.,\n",
       "       0., 0., 0., 0., 0., 0., 0., 0., 0., 0., 0., 0., 0., 0., 0., 0., 0.,\n",
       "       0., 0., 0., 0., 0., 0.])"
      ]
     },
     "execution_count": 28,
     "metadata": {},
     "output_type": "execute_result"
    }
   ],
   "source": [
    "y_prd"
   ]
  },
  {
   "cell_type": "code",
   "execution_count": 29,
   "metadata": {},
   "outputs": [
    {
     "data": {
      "text/plain": [
       "0.95"
      ]
     },
     "execution_count": 29,
     "metadata": {},
     "output_type": "execute_result"
    }
   ],
   "source": [
    "from sklearn import metrics\n",
    "metrics.accuracy_score(y_test,y_prd)"
   ]
  },
  {
   "cell_type": "code",
   "execution_count": 30,
   "metadata": {},
   "outputs": [],
   "source": [
    "from sklearn.svm import SVC\n",
    "classifier=SVC(kernel='rbf')\n",
    "classifier.fit(X_train,y_train)\n",
    "y_prd=classifier.predict(X_test)"
   ]
  },
  {
   "cell_type": "code",
   "execution_count": 31,
   "metadata": {},
   "outputs": [
    {
     "data": {
      "text/plain": [
       "0.95"
      ]
     },
     "execution_count": 31,
     "metadata": {},
     "output_type": "execute_result"
    }
   ],
   "source": [
    "from sklearn import metrics\n",
    "metrics.accuracy_score(y_test,y_prd)"
   ]
  },
  {
   "cell_type": "code",
   "execution_count": 32,
   "metadata": {},
   "outputs": [],
   "source": [
    "from sklearn.svm import SVC\n",
    "classifier=SVC(kernel='linear',gamma=7,C=15,random_state=0)\n",
    "classifier.fit(X_train,y_train)\n",
    "y_prd=classifier.predict(X_test)"
   ]
  },
  {
   "cell_type": "code",
   "execution_count": 33,
   "metadata": {},
   "outputs": [
    {
     "data": {
      "text/plain": [
       "0.95"
      ]
     },
     "execution_count": 33,
     "metadata": {},
     "output_type": "execute_result"
    }
   ],
   "source": [
    "from sklearn import metrics\n",
    "metrics.accuracy_score(y_test,y_prd)"
   ]
  },
  {
   "cell_type": "code",
   "execution_count": 34,
   "metadata": {},
   "outputs": [],
   "source": [
    "X=df.iloc[:,[0,2,8]]\n",
    "Y=df.iloc[:,7]"
   ]
  },
  {
   "cell_type": "code",
   "execution_count": 35,
   "metadata": {},
   "outputs": [],
   "source": [
    "from sklearn.model_selection import train_test_split\n",
    "X_train, X_test, y_train, y_test = train_test_split(X, Y, test_size=0.4, random_state=42)"
   ]
  },
  {
   "cell_type": "code",
   "execution_count": 36,
   "metadata": {},
   "outputs": [],
   "source": [
    "from sklearn.preprocessing import StandardScaler\n",
    "sc=StandardScaler()\n",
    "X_train=sc.fit_transform(X_train)\n",
    "X_test=sc.fit_transform(X_test)"
   ]
  },
  {
   "cell_type": "code",
   "execution_count": 37,
   "metadata": {},
   "outputs": [],
   "source": [
    "from sklearn.svm import SVC\n",
    "classifier=SVC(kernel='rbf')\n",
    "classifier.fit(X_train,y_train)\n",
    "y_prd=classifier.predict(X_test)"
   ]
  },
  {
   "cell_type": "code",
   "execution_count": 38,
   "metadata": {},
   "outputs": [
    {
     "data": {
      "text/plain": [
       "0.95"
      ]
     },
     "execution_count": 38,
     "metadata": {},
     "output_type": "execute_result"
    }
   ],
   "source": [
    "from sklearn import metrics\n",
    "metrics.accuracy_score(y_test,y_prd)"
   ]
  },
  {
   "cell_type": "code",
   "execution_count": null,
   "metadata": {},
   "outputs": [],
   "source": []
  },
  {
   "cell_type": "code",
   "execution_count": null,
   "metadata": {},
   "outputs": [],
   "source": []
  },
  {
   "cell_type": "code",
   "execution_count": null,
   "metadata": {},
   "outputs": [],
   "source": []
  }
 ],
 "metadata": {
  "kernelspec": {
   "display_name": "Python 3",
   "language": "python",
   "name": "python3"
  },
  "language_info": {
   "codemirror_mode": {
    "name": "ipython",
    "version": 3
   },
   "file_extension": ".py",
   "mimetype": "text/x-python",
   "name": "python",
   "nbconvert_exporter": "python",
   "pygments_lexer": "ipython3",
   "version": "3.8.5"
  }
 },
 "nbformat": 4,
 "nbformat_minor": 4
}
